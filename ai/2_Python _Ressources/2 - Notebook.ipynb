{
 "cells": [
  {
   "cell_type": "markdown",
   "id": "afe8a051",
   "metadata": {},
   "source": [
    "# Getting started with Python"
   ]
  },
  {
   "cell_type": "markdown",
   "id": "946e5252",
   "metadata": {},
   "source": [
    "This is a Jupyter Notebook, it allows the user to execute only some parts of the Python code by executing 'cells'.\n",
    "\n",
    "Here are some shortcuts:\n",
    "- Create a new cell: b\n",
    "- Execute a cell: ctrl+enter\n",
    "- Delete a cell: dd"
   ]
  },
  {
   "cell_type": "markdown",
   "id": "d59be55c",
   "metadata": {},
   "source": [
    "## Variables and types"
   ]
  },
  {
   "cell_type": "markdown",
   "id": "eabf68ab",
   "metadata": {},
   "source": [
    "Python is a dynamic programming language so there is no need to declare the variables or their type."
   ]
  },
  {
   "cell_type": "code",
   "execution_count": 1,
   "id": "13eab217",
   "metadata": {},
   "outputs": [
    {
     "name": "stdout",
     "output_type": "stream",
     "text": [
      "1.4242\n"
     ]
    }
   ],
   "source": [
    "var_int = 1 ## int\n",
    "var_float = 1.4242 ## floats\n",
    "my_string = \"schlumberger\" ## string\n",
    "my_bool = True\n",
    "print(var_float)"
   ]
  },
  {
   "cell_type": "code",
   "execution_count": 2,
   "id": "05202d91",
   "metadata": {},
   "outputs": [
    {
     "name": "stdout",
     "output_type": "stream",
     "text": [
      "1\n"
     ]
    }
   ],
   "source": [
    "# We can change the type of a variable\n",
    "my_var = 1\n",
    "my_var = \"1\"\n",
    "my_var = int(my_var)\n",
    "print(my_var)"
   ]
  },
  {
   "cell_type": "code",
   "execution_count": 3,
   "id": "1f32771c",
   "metadata": {},
   "outputs": [
    {
     "name": "stdout",
     "output_type": "stream",
     "text": [
      "schlumberger @ Clamart\n"
     ]
    }
   ],
   "source": [
    "# Basic operators\n",
    "my_new_string = my_string + \" @ Clamart\"\n",
    "print(my_new_string)"
   ]
  },
  {
   "cell_type": "markdown",
   "id": "35777360",
   "metadata": {},
   "source": [
    "## Loops & If statements"
   ]
  },
  {
   "cell_type": "markdown",
   "id": "add278c2",
   "metadata": {},
   "source": [
    "Python allows us to use loops such as for loops or while loops, to do so, we do as follows:"
   ]
  },
  {
   "cell_type": "code",
   "execution_count": 4,
   "id": "28d8fe02",
   "metadata": {},
   "outputs": [
    {
     "name": "stdout",
     "output_type": "stream",
     "text": [
      "1\n",
      "2\n",
      "3\n"
     ]
    }
   ],
   "source": [
    "# While loops\n",
    "ind = 0\n",
    "my_condition = True\n",
    "while my_condition:\n",
    "    ind += 1\n",
    "    my_condition = ind < 3\n",
    "    print(ind)"
   ]
  },
  {
   "cell_type": "code",
   "execution_count": 5,
   "id": "a1c14134",
   "metadata": {},
   "outputs": [
    {
     "name": "stdout",
     "output_type": "stream",
     "text": [
      "0\n",
      "2\n",
      "4\n",
      "6\n",
      "8\n"
     ]
    }
   ],
   "source": [
    "# For loops\n",
    "start = 0\n",
    "stop = 10\n",
    "step = 2\n",
    "for ind in range(start, stop, step):\n",
    "    print(ind)"
   ]
  },
  {
   "cell_type": "code",
   "execution_count": 6,
   "id": "01f0b6bc",
   "metadata": {},
   "outputs": [
    {
     "name": "stdout",
     "output_type": "stream",
     "text": [
      "It's true\n"
     ]
    }
   ],
   "source": [
    "if 3+1 > 2:\n",
    "    print(\"It's true\")\n",
    "else:\n",
    "    print(\"You are wrong\")"
   ]
  },
  {
   "cell_type": "code",
   "execution_count": 7,
   "id": "b14147dd",
   "metadata": {},
   "outputs": [
    {
     "name": "stdout",
     "output_type": "stream",
     "text": [
      "?\n"
     ]
    }
   ],
   "source": [
    "a = 0\n",
    "\n",
    "if a > 0:\n",
    "    print(\"+\")\n",
    "elif a < 0:\n",
    "    print(\"-\")\n",
    "else:\n",
    "    print(\"?\")"
   ]
  },
  {
   "cell_type": "markdown",
   "id": "459f00b1",
   "metadata": {},
   "source": [
    "## Data structures"
   ]
  },
  {
   "cell_type": "markdown",
   "id": "9241f3fb",
   "metadata": {},
   "source": [
    "There are a lot of different data structures in Python, the most useful are shown in the cells below:"
   ]
  },
  {
   "cell_type": "markdown",
   "id": "2650518c",
   "metadata": {},
   "source": [
    "### Lists"
   ]
  },
  {
   "cell_type": "code",
   "execution_count": 40,
   "id": "1d3546d4",
   "metadata": {},
   "outputs": [
    {
     "name": "stdout",
     "output_type": "stream",
     "text": [
      "----------------------------------------\n",
      "Element at index 1 of the list\n",
      "****************************************\n",
      "3\n"
     ]
    }
   ],
   "source": [
    "## A list is an ordered collection of elements\n",
    "empty_list = []\n",
    "random_list = [1, 3, my_var, range(0, 10), 3*\"AI Lab\"] ## We note that the elements can have different types\n",
    "my_element = random_list[1] ## We can access the element i of a list using [i]\n",
    "print(\"-\"*40)\n",
    "print(\"Element at index 1 of the list\")\n",
    "print(\"*\"*40)\n",
    "print(my_element)"
   ]
  },
  {
   "cell_type": "code",
   "execution_count": 41,
   "id": "5fe1287d",
   "metadata": {},
   "outputs": [
    {
     "name": "stdout",
     "output_type": "stream",
     "text": [
      "----------------------------------------\n",
      "Concatenation of a new element to a list\n",
      "****************************************\n",
      "[1, 2, 3, 4]\n",
      "----------------------------------------\n",
      "List by comprehension to generate all the odd numbers to 100\n",
      "****************************************\n",
      "[1, 3, 5, 7, 9, 11, 13, 15, 17, 19, 21, 23, 25, 27, 29, 31, 33, 35, 37, 39, 41, 43, 45, 47, 49, 51, 53, 55, 57, 59, 61, 63, 65, 67, 69, 71, 73, 75, 77, 79, 81, 83, 85, 87, 89, 91, 93, 95, 97, 99]\n"
     ]
    }
   ],
   "source": [
    "list_to_fill = [1, 2, 3] + [4]\n",
    "print(\"-\"*40)\n",
    "print(\"Concatenation of a new element to a list\")\n",
    "print(\"*\"*40)\n",
    "print(list_to_fill)\n",
    "every_odd_numbers = [int_ for int_ in range(0, 100) if int_ % 2 == 1] ## We can generate list by comprehension\n",
    "print(\"-\"*40)\n",
    "print(\"List by comprehension to generate all the odd numbers to 100\")\n",
    "print(\"*\"*40)\n",
    "print(every_odd_numbers)"
   ]
  },
  {
   "cell_type": "markdown",
   "id": "e275a1b7",
   "metadata": {},
   "source": [
    "### Dictionary"
   ]
  },
  {
   "cell_type": "code",
   "execution_count": 11,
   "id": "c2108aa5",
   "metadata": {},
   "outputs": [
    {
     "name": "stdout",
     "output_type": "stream",
     "text": [
      "----------------------------------------\n",
      "Value of my_dict at key\n",
      "****************************************\n",
      "value\n",
      "----------------------------------------\n",
      "my_dict after adding new_key\n",
      "****************************************\n",
      "{'key': 'value', 1: 2, 'new_key': 'new_value'}\n"
     ]
    }
   ],
   "source": [
    "## A dictionary is used to store data values in key:value pairs\n",
    "my_dict = {\"key\": \"value\", 1: 2}\n",
    "print(\"-\"*40)\n",
    "print(\"Value of my_dict at key\")\n",
    "print(\"*\"*40)\n",
    "print(my_dict[\"key\"])\n",
    "my_dict[\"new_key\"] = \"new_value\"\n",
    "print(\"-\"*40)\n",
    "print(\"my_dict after adding new_key\")\n",
    "print(\"*\"*40)\n",
    "print(my_dict)"
   ]
  },
  {
   "cell_type": "markdown",
   "id": "0e0f8368",
   "metadata": {},
   "source": [
    "### Sets"
   ]
  },
  {
   "cell_type": "code",
   "execution_count": 42,
   "id": "a5eebd20",
   "metadata": {},
   "outputs": [
    {
     "name": "stdout",
     "output_type": "stream",
     "text": [
      "----------------------------------------\n",
      "My set\n",
      "****************************************\n",
      "{'c', 'a', 'b', 'd', 'r'} {'b', 'd', 'r'}\n",
      "----------------------------------------\n",
      "Difference between two sets\n",
      "****************************************\n",
      "{'b', 'd', 'r'}\n",
      "----------------------------------------\n",
      "Logical and on two sets\n",
      "****************************************\n",
      "{'a', 'c'}\n"
     ]
    }
   ],
   "source": [
    "my_set = set('abracadabra')\n",
    "my_other_set = set('alacazam')\n",
    "\n",
    "print(\"-\"*40)\n",
    "print(\"My set\")\n",
    "print(\"*\"*40)\n",
    "print(my_set, my_set - my_other_set)\n",
    "print(\"-\"*40)\n",
    "print(\"Difference between two sets\")\n",
    "print(\"*\"*40)\n",
    "print(my_set - my_other_set)\n",
    "print(\"-\"*40)\n",
    "print(\"Logical and on two sets\")\n",
    "print(\"*\"*40)\n",
    "print(my_set & my_other_set)"
   ]
  },
  {
   "cell_type": "markdown",
   "id": "3f1e9673",
   "metadata": {},
   "source": [
    "## Functions"
   ]
  },
  {
   "cell_type": "markdown",
   "id": "d587eee3",
   "metadata": {},
   "source": [
    "Python supports multiple programming paradigms, including functional programming. Therefore, it is possible to create functions"
   ]
  },
  {
   "cell_type": "code",
   "execution_count": 43,
   "id": "99a91233",
   "metadata": {},
   "outputs": [
    {
     "name": "stdout",
     "output_type": "stream",
     "text": [
      "----------------------------------------\n",
      "Output of the function with input (3,True)\n",
      "****************************************\n",
      "2\n",
      "----------------------------------------\n",
      "Output of the lambda function with input my_string\n",
      "****************************************\n",
      "['my', 'string']\n"
     ]
    }
   ],
   "source": [
    "def add_one_and_divide_by_two(input_int, round_output=False):\n",
    "    # inner_variable will not be accessible outside\n",
    "    inner_variable = input_int + 1\n",
    "    output = inner_variable/2\n",
    "    if round_output:\n",
    "        output = int(output)\n",
    "    # the output given by the function is the value contained in output\n",
    "    return output\n",
    "\n",
    "print(\"-\"*40)\n",
    "print(\"Output of the function with input (3,True)\")\n",
    "print(\"*\"*40)\n",
    "print(add_one_and_divide_by_two(3, True))\n",
    "\n",
    "# Lambda function\n",
    "\n",
    "my_lambda_func = lambda some_str:some_str.split()\n",
    "print(\"-\"*40)\n",
    "print(\"Output of the lambda function with input my_string\")\n",
    "print(\"*\"*40)\n",
    "print(my_lambda_func(\"my string\"))"
   ]
  },
  {
   "cell_type": "markdown",
   "id": "ed6f2d84",
   "metadata": {},
   "source": [
    "## Libraries"
   ]
  },
  {
   "cell_type": "markdown",
   "id": "f27df040",
   "metadata": {},
   "source": [
    "In Python we can use functions, classes or methods already implemented in different libraries."
   ]
  },
  {
   "cell_type": "markdown",
   "id": "41bbaaf1",
   "metadata": {},
   "source": [
    "### Numpy"
   ]
  },
  {
   "cell_type": "markdown",
   "id": "95cb7cfa",
   "metadata": {},
   "source": [
    "Numpy is the most common library in Python, it provides a framework to create and perform mathematical operations such as calculus and linear algebra."
   ]
  },
  {
   "cell_type": "code",
   "execution_count": 15,
   "id": "897215bc",
   "metadata": {},
   "outputs": [],
   "source": [
    "## To import a library, we do as it follows: import NAME_OF_LIBRARY as RENAME\n",
    "import numpy as np"
   ]
  },
  {
   "cell_type": "code",
   "execution_count": 16,
   "id": "19f786e3",
   "metadata": {},
   "outputs": [
    {
     "name": "stdout",
     "output_type": "stream",
     "text": [
      "----------------------------------------\n",
      "My vector\n",
      "****************************************\n",
      "[1 2 3 4]\n",
      "----------------------------------------\n",
      "My matrix\n",
      "****************************************\n",
      "[[1 2 3 4]\n",
      " [5 6 7 8]\n",
      " [9 0 0 0]]\n"
     ]
    }
   ],
   "source": [
    "my_vector = np.array([1, 2, 3, 4])\n",
    "\n",
    "my_matrix = np.array([[1, 2, 3, 4],\n",
    "                      [5, 6, 7, 8],\n",
    "                      [9, 0, 0, 0]])\n",
    "\n",
    "print(\"-\"*40)\n",
    "print(\"My vector\")\n",
    "print(\"*\"*40)\n",
    "print(my_vector)\n",
    "print(\"-\"*40)\n",
    "print(\"My matrix\")\n",
    "print(\"*\"*40)\n",
    "print(my_matrix)"
   ]
  },
  {
   "cell_type": "code",
   "execution_count": 17,
   "id": "c6b88be1",
   "metadata": {},
   "outputs": [
    {
     "name": "stdout",
     "output_type": "stream",
     "text": [
      "----------------------------------------\n",
      "My zeros array\n",
      "****************************************\n",
      "[[0. 0. 0.]\n",
      " [0. 0. 0.]]\n",
      "----------------------------------------\n",
      "My ones array\n",
      "****************************************\n",
      "[[1. 1. 1.]\n",
      " [1. 1. 1.]\n",
      " [1. 1. 1.]]\n"
     ]
    }
   ],
   "source": [
    "# We can also use some predefined arrays\n",
    "my_zeros = np.zeros((2, 3))\n",
    "my_ones = np.ones((3, 3))\n",
    "print(\"-\"*40)\n",
    "print(\"My zeros array\")\n",
    "print(\"*\"*40)\n",
    "print(my_zeros)\n",
    "print(\"-\"*40)\n",
    "print(\"My ones array\")\n",
    "print(\"*\"*40)\n",
    "print(my_ones)"
   ]
  },
  {
   "cell_type": "code",
   "execution_count": 19,
   "id": "03dc3815",
   "metadata": {},
   "outputs": [
    {
     "name": "stdout",
     "output_type": "stream",
     "text": [
      "----------------------------------------\n",
      "Multiplication using *\n",
      "****************************************\n",
      "[[1. 1. 1.]\n",
      " [1. 1. 1.]\n",
      " [1. 1. 1.]]\n",
      "----------------------------------------\n",
      "Multiplication using @\n",
      "****************************************\n",
      "[[3. 3. 3.]\n",
      " [3. 3. 3.]\n",
      " [3. 3. 3.]]\n",
      "----------------------------------------\n",
      "Power using **\n",
      "****************************************\n",
      "[[2. 2. 2.]\n",
      " [2. 2. 2.]\n",
      " [2. 2. 2.]]\n",
      "[[4. 4. 4.]\n",
      " [4. 4. 4.]\n",
      " [4. 4. 4.]]\n",
      "----------------------------------------\n",
      "Power using matrix_power\n",
      "****************************************\n",
      "[[12. 12. 12.]\n",
      " [12. 12. 12.]\n",
      " [12. 12. 12.]]\n"
     ]
    }
   ],
   "source": [
    "# Numpy Array operations\n",
    "\n",
    "print(\"-\"*40)\n",
    "print(\"Multiplication using *\")\n",
    "print(\"*\"*40)\n",
    "print(my_ones*my_ones)\n",
    "print(\"-\"*40)\n",
    "print(\"Multiplication using @\")\n",
    "print(\"*\"*40)\n",
    "print(my_ones@my_ones)\n",
    "\n",
    "print(\"-\"*40)\n",
    "print(\"Power using **\")\n",
    "print(\"*\"*40)\n",
    "print((2*my_ones))\n",
    "print((2*my_ones)**2)\n",
    "print(\"-\"*40)\n",
    "print(\"Power using matrix_power\")\n",
    "print(\"*\"*40)\n",
    "print(np.linalg.matrix_power(2*my_ones, 2))"
   ]
  },
  {
   "cell_type": "markdown",
   "id": "2eaf2e75",
   "metadata": {},
   "source": [
    "### Matplotlib"
   ]
  },
  {
   "cell_type": "markdown",
   "id": "fd436f2a",
   "metadata": {},
   "source": [
    "To display graphs and plots, the most common library is Matplotlib."
   ]
  },
  {
   "cell_type": "code",
   "execution_count": 22,
   "id": "be6b80e0",
   "metadata": {},
   "outputs": [],
   "source": [
    "import matplotlib.pyplot as plt"
   ]
  },
  {
   "cell_type": "code",
   "execution_count": 27,
   "id": "11a18abf",
   "metadata": {},
   "outputs": [
    {
     "data": {
      "image/png": "[encoded data removed]",
      "text/plain": [
       "<Figure size 640x480 with 1 Axes>"
      ]
     },
     "metadata": {},
     "output_type": "display_data"
    }
   ],
   "source": [
    "x_axis = np.linspace(0, 4*np.pi, 40)\n",
    "# Y axis\n",
    "cos_array = np.cos(x_axis)\n",
    "# Plot itself\n",
    "plt.plot(x_axis, cos_array, label=\"cos(x)\",\n",
    "         color=\"red\", linestyle=\"--\", marker=\"*\")\n",
    "plt.title(\"My first graph with Matplotlib\")\n",
    "plt.xlabel(\"X axis\")\n",
    "plt.ylabel(\"Y axis\")\n",
    "plt.legend()\n",
    "plt.grid()\n",
    "# Shows the graph\n",
    "plt.show()"
   ]
  },
  {
   "cell_type": "markdown",
   "id": "5e9614ab",
   "metadata": {},
   "source": [
    "## Opening and writing files"
   ]
  },
  {
   "cell_type": "markdown",
   "id": "d38369c0",
   "metadata": {},
   "source": [
    "Python is able to read and write in files."
   ]
  },
  {
   "cell_type": "code",
   "execution_count": 28,
   "id": "b35b7333",
   "metadata": {},
   "outputs": [
    {
     "name": "stdout",
     "output_type": "stream",
     "text": [
      "Something has been written in data/example_write.txt\n"
     ]
    }
   ],
   "source": [
    "# Opening and writing in files\n",
    "with open(\"output/example_write.txt\", \"w\", encoding=\"utf-8\") as f:\n",
    "    f.write(\"This is my first file.\")\n",
    "    print(\"Something has been written in data/example_write.txt\")"
   ]
  },
  {
   "cell_type": "code",
   "execution_count": 29,
   "id": "bd8b2cb0",
   "metadata": {},
   "outputs": [
    {
     "name": "stdout",
     "output_type": "stream",
     "text": [
      "----------------------------------------\n",
      "Inside of loaded txt file\n",
      "****************************************\n",
      "Congratulations, you were able to read this file!\n"
     ]
    }
   ],
   "source": [
    "with open(\"data/example_read.txt\", \"r\", encoding=\"utf-8\") as f:\n",
    "    read_data = f.read()\n",
    "print(\"-\"*40)\n",
    "print(\"Inside of loaded txt file\")\n",
    "print(\"*\"*40)\n",
    "print(read_data)"
   ]
  },
  {
   "cell_type": "code",
   "execution_count": 30,
   "id": "edc3eccb",
   "metadata": {},
   "outputs": [
    {
     "name": "stdout",
     "output_type": "stream",
     "text": [
      "----------------------------------------\n",
      "Loaded array\n",
      "****************************************\n",
      "[[1 2 3 4]\n",
      " [5 6 7 8]\n",
      " [9 0 0 0]]\n"
     ]
    }
   ],
   "source": [
    "# Numpy files\n",
    "\n",
    "np.save(\"output/my_matrix.npy\", my_matrix)\n",
    "loaded_array = np.load(\"output/my_matrix.npy\")\n",
    "print(\"-\"*40)\n",
    "print(\"Loaded array\")\n",
    "print(\"*\"*40)\n",
    "print(loaded_array)"
   ]
  },
  {
   "cell_type": "code",
   "execution_count": 31,
   "id": "e39be8aa",
   "metadata": {},
   "outputs": [
    {
     "name": "stdout",
     "output_type": "stream",
     "text": [
      "----------------------------------------\n",
      "Inside of loaded json file\n",
      "****************************************\n",
      "{'color': 'red', 'height': 100}\n"
     ]
    }
   ],
   "source": [
    "# Json\n",
    "import json\n",
    "\n",
    "dict_to_save = {\"color\": \"red\", \"height\": 100}\n",
    "\n",
    "with open(\"output/dict_saved.json\", 'w', encoding=\"utf-8\") as f:\n",
    "    json.dump(dict_to_save, f)\n",
    "\n",
    "with open(\"data/dict_saved.json\", 'r', encoding=\"utf-8\") as f:\n",
    "    my_json = json.load(f)\n",
    "print(\"-\"*40)\n",
    "print(\"Inside of loaded json file\")\n",
    "print(\"*\"*40)\n",
    "print(my_json)"
   ]
  },
  {
   "cell_type": "markdown",
   "id": "daaa34ed",
   "metadata": {},
   "source": [
    "### Pandas"
   ]
  },
  {
   "cell_type": "markdown",
   "id": "e9e05ef6",
   "metadata": {},
   "source": [
    "The most convenient library to handle .csv files is probably Pandas. It is efficient to load such data and perform transformations on it."
   ]
  },
  {
   "cell_type": "code",
   "execution_count": 32,
   "id": "9d2bfb27",
   "metadata": {},
   "outputs": [],
   "source": [
    "import pandas as pd"
   ]
  },
  {
   "cell_type": "code",
   "execution_count": 33,
   "id": "c6746796",
   "metadata": {
    "scrolled": false
   },
   "outputs": [
    {
     "name": "stdout",
     "output_type": "stream",
     "text": [
      "----------------------------------------\n",
      "Head of the dataframe\n",
      "****************************************\n",
      "   sepal length (cm)  sepal width (cm)  petal length (cm)  petal width (cm)  \\\n",
      "0                5.1               3.5                1.4               0.2   \n",
      "1                4.9               3.0                1.4               0.2   \n",
      "2                4.7               3.2                1.3               0.2   \n",
      "3                4.6               3.1                1.5               0.2   \n",
      "4                5.0               3.6                1.4               0.2   \n",
      "\n",
      "   target  \n",
      "0       0  \n",
      "1       0  \n",
      "2       0  \n",
      "3       0  \n",
      "4       0  \n",
      "----------------------------------------\n",
      "Columns of the dataframe\n",
      "****************************************\n",
      "Index(['sepal length (cm)', 'sepal width (cm)', 'petal length (cm)',\n",
      "       'petal width (cm)', 'target'],\n",
      "      dtype='object')\n",
      "----------------------------------------\n",
      "Target column\n",
      "****************************************\n",
      "0      0\n",
      "1      0\n",
      "2      0\n",
      "3      0\n",
      "4      0\n",
      "      ..\n",
      "145    2\n",
      "146    2\n",
      "147    2\n",
      "148    2\n",
      "149    2\n",
      "Name: target, Length: 150, dtype: int64\n"
     ]
    }
   ],
   "source": [
    "# Read a dataframe\n",
    "my_dataframe = pd.read_csv(\"data/iris.csv\", sep=\",\")\n",
    "print(\"-\"*40)\n",
    "print(\"Head of the dataframe\")\n",
    "print(\"*\"*40)\n",
    "print(my_dataframe.head())\n",
    "columns_ = my_dataframe.columns\n",
    "print(\"-\"*40)\n",
    "print(\"Columns of the dataframe\")\n",
    "print(\"*\"*40)\n",
    "print(columns_)\n",
    "targets = my_dataframe.loc[:, \"target\"]\n",
    "print(\"-\"*40)\n",
    "print(\"Target column\")\n",
    "print(\"*\"*40)\n",
    "print(targets)"
   ]
  },
  {
   "cell_type": "code",
   "execution_count": 34,
   "id": "14ef9b6b",
   "metadata": {},
   "outputs": [
    {
     "name": "stdout",
     "output_type": "stream",
     "text": [
      "----------------------------------------\n",
      "Satistics around the dataframe\n",
      "****************************************\n",
      "       sepal length (cm)  sepal width (cm)  petal length (cm)  \\\n",
      "count         150.000000        150.000000         150.000000   \n",
      "mean            5.843333          3.057333           3.758000   \n",
      "std             0.828066          0.435866           1.765298   \n",
      "min             4.300000          2.000000           1.000000   \n",
      "25%             5.100000          2.800000           1.600000   \n",
      "50%             5.800000          3.000000           4.350000   \n",
      "75%             6.400000          3.300000           5.100000   \n",
      "max             7.900000          4.400000           6.900000   \n",
      "\n",
      "       petal width (cm)      target  \n",
      "count        150.000000  150.000000  \n",
      "mean           1.199333    1.000000  \n",
      "std            0.762238    0.819232  \n",
      "min            0.100000    0.000000  \n",
      "25%            0.300000    0.000000  \n",
      "50%            1.300000    1.000000  \n",
      "75%            1.800000    2.000000  \n",
      "max            2.500000    2.000000  \n",
      "----------------------------------------\n",
      "Grouping by target and applying mean\n",
      "****************************************\n",
      "        sepal length (cm)  sepal width (cm)  petal length (cm)  \\\n",
      "target                                                           \n",
      "0                   5.006             3.428              1.462   \n",
      "1                   5.936             2.770              4.260   \n",
      "2                   6.588             2.974              5.552   \n",
      "\n",
      "        petal width (cm)  \n",
      "target                    \n",
      "0                  0.246  \n",
      "1                  1.326  \n",
      "2                  2.026  \n",
      "----------------------------------------\n",
      "Multiplying by 10 all values inside the column sepal length (cm)\n",
      "****************************************\n",
      "0      51.0\n",
      "1      49.0\n",
      "2      47.0\n",
      "3      46.0\n",
      "4      50.0\n",
      "       ... \n",
      "145    67.0\n",
      "146    63.0\n",
      "147    65.0\n",
      "148    62.0\n",
      "149    59.0\n",
      "Name: sepal length (cm), Length: 150, dtype: float64\n"
     ]
    }
   ],
   "source": [
    "# Statistics on the dataframe\n",
    "print(\"-\"*40)\n",
    "print(\"Satistics around the dataframe\")\n",
    "print(\"*\"*40)\n",
    "print(my_dataframe.describe())\n",
    "\n",
    "# Group by\n",
    "print(\"-\"*40)\n",
    "print(\"Grouping by target and applying mean\")\n",
    "print(\"*\"*40)\n",
    "print(my_dataframe.groupby(\"target\").mean())\n",
    "\n",
    "# Drop NA values\n",
    "my_dataframe.dropna(how=\"any\")\n",
    "\n",
    "# Replace them\n",
    "my_dataframe.fillna(0)\n",
    "\n",
    "# Apply method\n",
    "print(\"-\"*40)\n",
    "print(\"Multiplying by 10 all values inside the column sepal length (cm)\")\n",
    "print(\"*\"*40)\n",
    "print(my_dataframe.loc[:, \"sepal length (cm)\"].apply(lambda x: x*10))\n"
   ]
  },
  {
   "cell_type": "markdown",
   "id": "4d760ba3",
   "metadata": {},
   "source": [
    "# Homework"
   ]
  },
  {
   "cell_type": "markdown",
   "id": "3cb049dc",
   "metadata": {},
   "source": [
    "## String manipulation"
   ]
  },
  {
   "cell_type": "markdown",
   "id": "b03b0aaa",
   "metadata": {},
   "source": [
    "Use the following variables to print the sentence in the right order."
   ]
  },
  {
   "cell_type": "code",
   "execution_count": 36,
   "id": "2aa17039",
   "metadata": {},
   "outputs": [
    {
     "name": "stdout",
     "output_type": "stream",
     "text": [
      "I am currently programming  programming \n"
     ]
    }
   ],
   "source": [
    "str_1, str_2, str_3 = \"in Python.\", \"I am currently\", \" programming \"\n",
    "my_final_string = str_2 + str_3 + str_3 ## Complete here\n",
    "print(my_final_string)"
   ]
  },
  {
   "cell_type": "markdown",
   "id": "4f3d2a65",
   "metadata": {},
   "source": [
    "Expected output:\n",
    "\n",
    "I am currently programming in Python."
   ]
  },
  {
   "cell_type": "markdown",
   "id": "13173a41",
   "metadata": {},
   "source": [
    "## Create a function to count the number of e in a string"
   ]
  },
  {
   "cell_type": "code",
   "execution_count": 64,
   "id": "2205d227",
   "metadata": {},
   "outputs": [
    {
     "name": "stdout",
     "output_type": "stream",
     "text": [
      "5\n",
      "None\n"
     ]
    }
   ],
   "source": [
    "def count_e(my_string):\n",
    "    if type(my_string) is not str:\n",
    "        return None\n",
    "    else:\n",
    "        nb_e = my_string.count('e')\n",
    "        return nb_e\n",
    "\n",
    "my_string = \"I live in Paris and I take the subway every mornings.\"\n",
    "my_int = 3\n",
    "print(count_e(my_string))\n",
    "print(count_e(my_int))"
   ]
  },
  {
   "cell_type": "markdown",
   "id": "dfddda0d",
   "metadata": {},
   "source": [
    "Expected outputs:\n",
    "- 5\n",
    "- None"
   ]
  },
  {
   "cell_type": "markdown",
   "id": "ed97efa1",
   "metadata": {},
   "source": [
    "## Array manipulation"
   ]
  },
  {
   "cell_type": "markdown",
   "id": "2018f728",
   "metadata": {},
   "source": [
    "Implement the norm of an array and compare with the numpy function.\n",
    "\n",
    "The norm of $a$ is defined as follows: $||a|| = \\sqrt{\\sum_i a[i]^2}$"
   ]
  },
  {
   "cell_type": "code",
   "execution_count": 70,
   "id": "6dcc061f",
   "metadata": {},
   "outputs": [
    {
     "name": "stdout",
     "output_type": "stream",
     "text": [
      "7.416198487095663\n",
      "7.416198487095663\n"
     ]
    }
   ],
   "source": [
    "import numpy as np\n",
    "import math\n",
    "my_array = np.array([1,2,3,4,5])\n",
    "print(math.sqrt(sum([i**2 for i in my_array]))) ## Test your own solution on my_array\n",
    "print(np.sqrt( np.sum(np.square(my_array)))) ## Apply numpy function to compute the norm of my_array"
   ]
  },
  {
   "cell_type": "markdown",
   "id": "dfd9eea0",
   "metadata": {},
   "source": [
    "Expected outputs:\n",
    "- 7.416198487095663\n",
    "- 7.416198487095663"
   ]
  },
  {
   "cell_type": "markdown",
   "id": "fa447ec1",
   "metadata": {},
   "source": [
    "## Ploting a probability distribution"
   ]
  },
  {
   "cell_type": "markdown",
   "id": "19b52107",
   "metadata": {},
   "source": [
    "To plot a probability distribution, we can draw samples from a specific distribution and plot the histogram related to those values."
   ]
  },
  {
   "cell_type": "code",
   "execution_count": 103,
   "id": "b8375d87",
   "metadata": {},
   "outputs": [
    {
     "data": {
      "image/png": "[encoded data removed]",
      "text/plain": [
       "<Figure size 640x480 with 1 Axes>"
      ]
     },
     "metadata": {},
     "output_type": "display_data"
    }
   ],
   "source": [
    "import numpy as np\n",
    "import matplotlib.pyplot as plt\n",
    "\n",
    "mean = 0; \n",
    "std = 1; \n",
    "variance = np.square(std)\n",
    "x = np.arange(-5,5,.01)\n",
    "f = np.exp(-np.square(x-mean)/2*variance)/(np.sqrt(2*np.pi*std))\n",
    "\n",
    "plt.plot(x,f)\n",
    "plt.xlabel('Values')\n",
    "plt.ylabel('Probability')\n",
    "plt.show()"
   ]
  },
  {
   "cell_type": "markdown",
   "id": "0ac035f4",
   "metadata": {},
   "source": [
    "Expected output:"
   ]
  },
  {
   "cell_type": "code",
   "execution_count": 71,
   "id": "23ed923c",
   "metadata": {},
   "outputs": [
    {
     "data": {
      "image/png": "[encoded data removed]",
      "text/plain": [
       "<IPython.core.display.Image object>"
      ]
     },
     "execution_count": 71,
     "metadata": {},
     "output_type": "execute_result"
    }
   ],
   "source": [
    "from IPython.display import Image\n",
    "Image(filename='data/figures/gaussian_distribution.png') "
   ]
  },
  {
   "cell_type": "markdown",
   "id": "43de63e0",
   "metadata": {},
   "source": [
    "## Pandas in and out"
   ]
  },
  {
   "cell_type": "code",
   "execution_count": null,
   "id": "0cc23144",
   "metadata": {},
   "outputs": [],
   "source": []
  },
  {
   "cell_type": "markdown",
   "id": "aca06a52",
   "metadata": {},
   "source": [
    "Step by step we are going to perform some transformation on .csv file with Pandas and save it to a new .csv file."
   ]
  },
  {
   "cell_type": "code",
   "execution_count": 72,
   "id": "cead868e",
   "metadata": {},
   "outputs": [],
   "source": [
    "import pandas as pd"
   ]
  },
  {
   "cell_type": "code",
   "execution_count": 86,
   "id": "bb70e7c2",
   "metadata": {},
   "outputs": [
    {
     "data": {
      "text/html": [
       "<div>\n",
       "<style scoped>\n",
       "    .dataframe tbody tr th:only-of-type {\n",
       "        vertical-align: middle;\n",
       "    }\n",
       "\n",
       "    .dataframe tbody tr th {\n",
       "        vertical-align: top;\n",
       "    }\n",
       "\n",
       "    .dataframe thead th {\n",
       "        text-align: right;\n",
       "    }\n",
       "</style>\n",
       "<table border=\"1\" class=\"dataframe\">\n",
       "  <thead>\n",
       "    <tr style=\"text-align: right;\">\n",
       "      <th></th>\n",
       "      <th>PassengerId</th>\n",
       "      <th>Survived</th>\n",
       "      <th>Pclass</th>\n",
       "      <th>Name</th>\n",
       "      <th>Sex</th>\n",
       "      <th>Age</th>\n",
       "      <th>SibSp</th>\n",
       "      <th>Parch</th>\n",
       "      <th>Ticket</th>\n",
       "      <th>Fare</th>\n",
       "      <th>Cabin</th>\n",
       "      <th>Embarked</th>\n",
       "    </tr>\n",
       "  </thead>\n",
       "  <tbody>\n",
       "    <tr>\n",
       "      <th>0</th>\n",
       "      <td>1</td>\n",
       "      <td>0</td>\n",
       "      <td>3</td>\n",
       "      <td>Braund, Mr. Owen Harris</td>\n",
       "      <td>male</td>\n",
       "      <td>22.0</td>\n",
       "      <td>1</td>\n",
       "      <td>0</td>\n",
       "      <td>A/5 21171</td>\n",
       "      <td>7.2500</td>\n",
       "      <td>NaN</td>\n",
       "      <td>S</td>\n",
       "    </tr>\n",
       "    <tr>\n",
       "      <th>1</th>\n",
       "      <td>2</td>\n",
       "      <td>1</td>\n",
       "      <td>1</td>\n",
       "      <td>Cumings, Mrs. John Bradley (Florence Briggs Th...</td>\n",
       "      <td>female</td>\n",
       "      <td>38.0</td>\n",
       "      <td>1</td>\n",
       "      <td>0</td>\n",
       "      <td>PC 17599</td>\n",
       "      <td>71.2833</td>\n",
       "      <td>C85</td>\n",
       "      <td>C</td>\n",
       "    </tr>\n",
       "    <tr>\n",
       "      <th>2</th>\n",
       "      <td>3</td>\n",
       "      <td>1</td>\n",
       "      <td>3</td>\n",
       "      <td>Heikkinen, Miss. Laina</td>\n",
       "      <td>female</td>\n",
       "      <td>26.0</td>\n",
       "      <td>0</td>\n",
       "      <td>0</td>\n",
       "      <td>STON/O2. 3101282</td>\n",
       "      <td>7.9250</td>\n",
       "      <td>NaN</td>\n",
       "      <td>S</td>\n",
       "    </tr>\n",
       "    <tr>\n",
       "      <th>3</th>\n",
       "      <td>4</td>\n",
       "      <td>1</td>\n",
       "      <td>1</td>\n",
       "      <td>Futrelle, Mrs. Jacques Heath (Lily May Peel)</td>\n",
       "      <td>female</td>\n",
       "      <td>35.0</td>\n",
       "      <td>1</td>\n",
       "      <td>0</td>\n",
       "      <td>113803</td>\n",
       "      <td>53.1000</td>\n",
       "      <td>C123</td>\n",
       "      <td>S</td>\n",
       "    </tr>\n",
       "    <tr>\n",
       "      <th>4</th>\n",
       "      <td>5</td>\n",
       "      <td>0</td>\n",
       "      <td>3</td>\n",
       "      <td>Allen, Mr. William Henry</td>\n",
       "      <td>male</td>\n",
       "      <td>35.0</td>\n",
       "      <td>0</td>\n",
       "      <td>0</td>\n",
       "      <td>373450</td>\n",
       "      <td>8.0500</td>\n",
       "      <td>NaN</td>\n",
       "      <td>S</td>\n",
       "    </tr>\n",
       "    <tr>\n",
       "      <th>...</th>\n",
       "      <td>...</td>\n",
       "      <td>...</td>\n",
       "      <td>...</td>\n",
       "      <td>...</td>\n",
       "      <td>...</td>\n",
       "      <td>...</td>\n",
       "      <td>...</td>\n",
       "      <td>...</td>\n",
       "      <td>...</td>\n",
       "      <td>...</td>\n",
       "      <td>...</td>\n",
       "      <td>...</td>\n",
       "    </tr>\n",
       "    <tr>\n",
       "      <th>886</th>\n",
       "      <td>887</td>\n",
       "      <td>0</td>\n",
       "      <td>2</td>\n",
       "      <td>Montvila, Rev. Juozas</td>\n",
       "      <td>male</td>\n",
       "      <td>27.0</td>\n",
       "      <td>0</td>\n",
       "      <td>0</td>\n",
       "      <td>211536</td>\n",
       "      <td>13.0000</td>\n",
       "      <td>NaN</td>\n",
       "      <td>S</td>\n",
       "    </tr>\n",
       "    <tr>\n",
       "      <th>887</th>\n",
       "      <td>888</td>\n",
       "      <td>1</td>\n",
       "      <td>1</td>\n",
       "      <td>Graham, Miss. Margaret Edith</td>\n",
       "      <td>female</td>\n",
       "      <td>19.0</td>\n",
       "      <td>0</td>\n",
       "      <td>0</td>\n",
       "      <td>112053</td>\n",
       "      <td>30.0000</td>\n",
       "      <td>B42</td>\n",
       "      <td>S</td>\n",
       "    </tr>\n",
       "    <tr>\n",
       "      <th>888</th>\n",
       "      <td>889</td>\n",
       "      <td>0</td>\n",
       "      <td>3</td>\n",
       "      <td>Johnston, Miss. Catherine Helen \"Carrie\"</td>\n",
       "      <td>female</td>\n",
       "      <td>NaN</td>\n",
       "      <td>1</td>\n",
       "      <td>2</td>\n",
       "      <td>W./C. 6607</td>\n",
       "      <td>23.4500</td>\n",
       "      <td>NaN</td>\n",
       "      <td>S</td>\n",
       "    </tr>\n",
       "    <tr>\n",
       "      <th>889</th>\n",
       "      <td>890</td>\n",
       "      <td>1</td>\n",
       "      <td>1</td>\n",
       "      <td>Behr, Mr. Karl Howell</td>\n",
       "      <td>male</td>\n",
       "      <td>26.0</td>\n",
       "      <td>0</td>\n",
       "      <td>0</td>\n",
       "      <td>111369</td>\n",
       "      <td>30.0000</td>\n",
       "      <td>C148</td>\n",
       "      <td>C</td>\n",
       "    </tr>\n",
       "    <tr>\n",
       "      <th>890</th>\n",
       "      <td>891</td>\n",
       "      <td>0</td>\n",
       "      <td>3</td>\n",
       "      <td>Dooley, Mr. Patrick</td>\n",
       "      <td>male</td>\n",
       "      <td>32.0</td>\n",
       "      <td>0</td>\n",
       "      <td>0</td>\n",
       "      <td>370376</td>\n",
       "      <td>7.7500</td>\n",
       "      <td>NaN</td>\n",
       "      <td>Q</td>\n",
       "    </tr>\n",
       "  </tbody>\n",
       "</table>\n",
       "<p>891 rows × 12 columns</p>\n",
       "</div>"
      ],
      "text/plain": [
       "     PassengerId  Survived  Pclass  \\\n",
       "0              1         0       3   \n",
       "1              2         1       1   \n",
       "2              3         1       3   \n",
       "3              4         1       1   \n",
       "4              5         0       3   \n",
       "..           ...       ...     ...   \n",
       "886          887         0       2   \n",
       "887          888         1       1   \n",
       "888          889         0       3   \n",
       "889          890         1       1   \n",
       "890          891         0       3   \n",
       "\n",
       "                                                  Name     Sex   Age  SibSp  \\\n",
       "0                              Braund, Mr. Owen Harris    male  22.0      1   \n",
       "1    Cumings, Mrs. John Bradley (Florence Briggs Th...  female  38.0      1   \n",
       "2                               Heikkinen, Miss. Laina  female  26.0      0   \n",
       "3         Futrelle, Mrs. Jacques Heath (Lily May Peel)  female  35.0      1   \n",
       "4                             Allen, Mr. William Henry    male  35.0      0   \n",
       "..                                                 ...     ...   ...    ...   \n",
       "886                              Montvila, Rev. Juozas    male  27.0      0   \n",
       "887                       Graham, Miss. Margaret Edith  female  19.0      0   \n",
       "888           Johnston, Miss. Catherine Helen \"Carrie\"  female   NaN      1   \n",
       "889                              Behr, Mr. Karl Howell    male  26.0      0   \n",
       "890                                Dooley, Mr. Patrick    male  32.0      0   \n",
       "\n",
       "     Parch            Ticket     Fare Cabin Embarked  \n",
       "0        0         A/5 21171   7.2500   NaN        S  \n",
       "1        0          PC 17599  71.2833   C85        C  \n",
       "2        0  STON/O2. 3101282   7.9250   NaN        S  \n",
       "3        0            113803  53.1000  C123        S  \n",
       "4        0            373450   8.0500   NaN        S  \n",
       "..     ...               ...      ...   ...      ...  \n",
       "886      0            211536  13.0000   NaN        S  \n",
       "887      0            112053  30.0000   B42        S  \n",
       "888      2        W./C. 6607  23.4500   NaN        S  \n",
       "889      0            111369  30.0000  C148        C  \n",
       "890      0            370376   7.7500   NaN        Q  \n",
       "\n",
       "[891 rows x 12 columns]"
      ]
     },
     "execution_count": 86,
     "metadata": {},
     "output_type": "execute_result"
    }
   ],
   "source": [
    "titanic_df = pd.read_csv(\"data/titanic_raw.csv\")\n",
    "titanic_df"
   ]
  },
  {
   "cell_type": "code",
   "execution_count": 87,
   "id": "8b4b58fb",
   "metadata": {},
   "outputs": [
    {
     "name": "stderr",
     "output_type": "stream",
     "text": [
      "C:\\Users\\PXi\\AppData\\Local\\Temp\\ipykernel_22684\\4266783452.py:1: FutureWarning: The default value of numeric_only in DataFrame.mean is deprecated. In a future version, it will default to False. In addition, specifying 'numeric_only=None' is deprecated. Select only valid columns or specify the value of numeric_only to silence this warning.\n",
      "  mean_age = titanic_df.mean()\n"
     ]
    },
    {
     "data": {
      "text/plain": [
       "PassengerId    446.000000\n",
       "Survived         0.383838\n",
       "Pclass           2.308642\n",
       "Age             29.699118\n",
       "SibSp            0.523008\n",
       "Parch            0.381594\n",
       "Fare            32.204208\n",
       "dtype: float64"
      ]
     },
     "execution_count": 87,
     "metadata": {},
     "output_type": "execute_result"
    }
   ],
   "source": [
    "mean_age = titanic_df.mean()\n",
    "mean_age"
   ]
  },
  {
   "cell_type": "code",
   "execution_count": 88,
   "id": "b2e7d394",
   "metadata": {},
   "outputs": [
    {
     "data": {
      "text/plain": [
       "0        male\n",
       "1      female\n",
       "2      female\n",
       "3      female\n",
       "4        male\n",
       "        ...  \n",
       "886      male\n",
       "887    female\n",
       "888    female\n",
       "889      male\n",
       "890      male\n",
       "Name: Sex, Length: 891, dtype: object"
      ]
     },
     "execution_count": 88,
     "metadata": {},
     "output_type": "execute_result"
    }
   ],
   "source": [
    "titanic_df[\"Sex\"] "
   ]
  },
  {
   "cell_type": "code",
   "execution_count": 97,
   "id": "2334d336",
   "metadata": {},
   "outputs": [],
   "source": [
    "## Load the dataframe\n",
    "titanic_df = pd.read_csv(\"data/titanic_raw.csv\")\n",
    "\n",
    "## Compute the average age of the passengers\n",
    "mean_age = titanic_df[\"Age\"].mean()\n",
    "## Replace missing age values by the mean\n",
    "titanic_df[\"Age\"].fillna(mean_age)\n",
    "## Replace the value in the Sex column by the first letter of the gender\n",
    "titanic_df[\"Sex\"] = titanic_df[\"Sex\"].str[:1]\n",
    "## We keep only some relevant columns\n",
    "titanic_output = titanic_df[[\"PassengerId\", \"Age\", \"Sex\", \"Survived\"]]\n",
    "## Save it to data/titanic_output.csv\n",
    "titanic_output.to_csv('data/titanic_output.csv')"
   ]
  },
  {
   "cell_type": "code",
   "execution_count": 99,
   "id": "5744d5c4",
   "metadata": {},
   "outputs": [
    {
     "data": {
      "text/html": [
       "<div>\n",
       "<style scoped>\n",
       "    .dataframe tbody tr th:only-of-type {\n",
       "        vertical-align: middle;\n",
       "    }\n",
       "\n",
       "    .dataframe tbody tr th {\n",
       "        vertical-align: top;\n",
       "    }\n",
       "\n",
       "    .dataframe thead th {\n",
       "        text-align: right;\n",
       "    }\n",
       "</style>\n",
       "<table border=\"1\" class=\"dataframe\">\n",
       "  <thead>\n",
       "    <tr style=\"text-align: right;\">\n",
       "      <th></th>\n",
       "      <th>Unnamed: 0</th>\n",
       "      <th>PassengerId</th>\n",
       "      <th>Age</th>\n",
       "      <th>Sex</th>\n",
       "      <th>Survived</th>\n",
       "    </tr>\n",
       "  </thead>\n",
       "  <tbody>\n",
       "    <tr>\n",
       "      <th>0</th>\n",
       "      <td>0</td>\n",
       "      <td>1</td>\n",
       "      <td>22.0</td>\n",
       "      <td>m</td>\n",
       "      <td>0</td>\n",
       "    </tr>\n",
       "    <tr>\n",
       "      <th>1</th>\n",
       "      <td>1</td>\n",
       "      <td>2</td>\n",
       "      <td>38.0</td>\n",
       "      <td>f</td>\n",
       "      <td>1</td>\n",
       "    </tr>\n",
       "    <tr>\n",
       "      <th>2</th>\n",
       "      <td>2</td>\n",
       "      <td>3</td>\n",
       "      <td>26.0</td>\n",
       "      <td>f</td>\n",
       "      <td>1</td>\n",
       "    </tr>\n",
       "    <tr>\n",
       "      <th>3</th>\n",
       "      <td>3</td>\n",
       "      <td>4</td>\n",
       "      <td>35.0</td>\n",
       "      <td>f</td>\n",
       "      <td>1</td>\n",
       "    </tr>\n",
       "    <tr>\n",
       "      <th>4</th>\n",
       "      <td>4</td>\n",
       "      <td>5</td>\n",
       "      <td>35.0</td>\n",
       "      <td>m</td>\n",
       "      <td>0</td>\n",
       "    </tr>\n",
       "    <tr>\n",
       "      <th>...</th>\n",
       "      <td>...</td>\n",
       "      <td>...</td>\n",
       "      <td>...</td>\n",
       "      <td>...</td>\n",
       "      <td>...</td>\n",
       "    </tr>\n",
       "    <tr>\n",
       "      <th>886</th>\n",
       "      <td>886</td>\n",
       "      <td>887</td>\n",
       "      <td>27.0</td>\n",
       "      <td>m</td>\n",
       "      <td>0</td>\n",
       "    </tr>\n",
       "    <tr>\n",
       "      <th>887</th>\n",
       "      <td>887</td>\n",
       "      <td>888</td>\n",
       "      <td>19.0</td>\n",
       "      <td>f</td>\n",
       "      <td>1</td>\n",
       "    </tr>\n",
       "    <tr>\n",
       "      <th>888</th>\n",
       "      <td>888</td>\n",
       "      <td>889</td>\n",
       "      <td>NaN</td>\n",
       "      <td>f</td>\n",
       "      <td>0</td>\n",
       "    </tr>\n",
       "    <tr>\n",
       "      <th>889</th>\n",
       "      <td>889</td>\n",
       "      <td>890</td>\n",
       "      <td>26.0</td>\n",
       "      <td>m</td>\n",
       "      <td>1</td>\n",
       "    </tr>\n",
       "    <tr>\n",
       "      <th>890</th>\n",
       "      <td>890</td>\n",
       "      <td>891</td>\n",
       "      <td>32.0</td>\n",
       "      <td>m</td>\n",
       "      <td>0</td>\n",
       "    </tr>\n",
       "  </tbody>\n",
       "</table>\n",
       "<p>891 rows × 5 columns</p>\n",
       "</div>"
      ],
      "text/plain": [
       "     Unnamed: 0  PassengerId   Age Sex  Survived\n",
       "0             0            1  22.0   m         0\n",
       "1             1            2  38.0   f         1\n",
       "2             2            3  26.0   f         1\n",
       "3             3            4  35.0   f         1\n",
       "4             4            5  35.0   m         0\n",
       "..          ...          ...   ...  ..       ...\n",
       "886         886          887  27.0   m         0\n",
       "887         887          888  19.0   f         1\n",
       "888         888          889   NaN   f         0\n",
       "889         889          890  26.0   m         1\n",
       "890         890          891  32.0   m         0\n",
       "\n",
       "[891 rows x 5 columns]"
      ]
     },
     "execution_count": 99,
     "metadata": {},
     "output_type": "execute_result"
    }
   ],
   "source": [
    "titanic_output = pd.read_csv(\"data/titanic_output.csv\")\n",
    "titanic_output"
   ]
  }
 ],
 "metadata": {
  "kernelspec": {
   "display_name": "Python 3 (ipykernel)",
   "language": "python",
   "name": "python3"
  },
  "language_info": {
   "codemirror_mode": {
    "name": "ipython",
    "version": 3
   },
   "file_extension": ".py",
   "mimetype": "text/x-python",
   "name": "python",
   "nbconvert_exporter": "python",
   "pygments_lexer": "ipython3",
   "version": "3.8.10"
  }
 },
 "nbformat": 4,
 "nbformat_minor": 5
}
